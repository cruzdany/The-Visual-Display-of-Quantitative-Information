{
 "cells": [
  {
   "cell_type": "markdown",
   "metadata": {},
   "source": [
    "# The visual display of quantitative information by Edward Rolf Tufte\n",
    "## Chapter 1: Graphical Excellence\n",
    "### 1. What does excellence in statistical consist of? It consist in communicating\n",
    "It consist on complex ideas with clarity, precision and e\u000eciency.\n",
    "### 2. How are usually descriped the data maps in cartography? They are described\n",
    "As thematic maps.\n",
    "### 3. According to the book, in which year was plotted the first economic timeseries?\n",
    "It was not until 1786. He made a map to chart patterns of diseases.\n",
    "### 4. How were marked the dots and water pumps?\n",
    "Deaths were marked by dots and area's eleven water pumps were located by crosses.\n",
    "### 5. What is the most frequently plot used from graphic design? \n",
    "The timeseries plot\n",
    "### 6. What are the two great inventors of modern graphical design? They are\n",
    "J. H. Lambert (1728-1777), a Swiss-German scientist and mathematician,\n",
    "and William Playfair (1759-1823), a Scottish political economist.\n",
    "### 7. What does the Minard's map portrays of? It portrays a sequence of\n",
    "Devastating losses suffered in Napoleon's Russian campaign of 1812.\n",
    "### 8. What does the circle, line on the left, line on the right of the playfair piechart represent of? \n",
    "The circle represents the area o f each country; the line on the left, the population in millions read on the vertical scales; the line on the right, the revenue (taxes) collected in millions of pounds sterling read also on the vertical scale.\n",
    "\n",
    "## Chapter 2: Graphical Integrity\n",
    "### 1. What was the assumption that the deceptive graphics had of? \n",
    "They were\n",
    "perceived that they were mainly devices for showing the obvious to the\n",
    "ignorant.\n",
    "### 2. Mention the way in which we can know that visual image represents the underlying numbers. \n",
    "It can be achieved by having people look at lines of varying length, circles of di\u000b",
    "erent areas, and then recording their assessments of the numerical quantities.\n",
    "### 3. What does it the lie factor be equal to one might mean? \n",
    "It might mean that the graphic might be doing a reasonable job of accurately representing the underlying numbers.\n",
    "###  4. What is the formula of the lie factor? \n",
    "Life factor is equal to the size of effect shown in graphic over the size of effect in data. In other words: lie factor = size of effect shown in graphic/size of effect in data.\n",
    "### 5. What are the six principles that make a graphical integrity more likely to result?\n",
    "- The representation of numbers, as physically measured on the surface of the graphic itself, should be directly proportional to the numerical quantities represented.\n",
    "\n",
    "- Clear, detailed, and thorough labeling should be used to defeat graphical distortion and ambiguity. Write out explanations of the data on the graphic itself. Label important events in the data.\n",
    "- Show data variation, not design variation.\n",
    "- In time-series displays of money, deated and standardized units of monetary measurement are nearly always better than nominal units.\n",
    "- The number of information-carrying (variable) dimensions depicted should not exceed the number o f dimensions in the data.\n",
    "- Graphics must not quote data out of context.\n",
    "\n",
    "## Chapter 3: Sources of graphical integrity and sophistication\n",
    "\n",
    "### 1: How can we achieve graphical sophistication?\n",
    "By using relational graphics.\n",
    "\n",
    "## 2: What are the primary causes of inept graphical work?\n",
    "Lack of quantitative skills of professional artists, people think that statistical data are boring, and people think that graphics are only for the unsophisticated reader.\n",
    "\n",
    "## Chapter 4: Data-Ink and Graphical Redesign\n",
    "\n",
    "## Chapter 5: Chartjunk: Vibrations, Grids, and Ducks\n",
    "## Chapter 6: Data-Ink Maximization and Graphical Design\n",
    "## Chapter 7: Multifunctioning Graphical Elements\n",
    "## Chapter 8: Data Density and Small Multiples\n",
    "## Chapter 9: Aesthetics and Technique in Data Graphical Design\n"
   ]
  },
  {
   "cell_type": "code",
   "execution_count": null,
   "metadata": {},
   "outputs": [],
   "source": []
  }
 ],
 "metadata": {
  "kernelspec": {
   "display_name": "Python 3",
   "language": "python",
   "name": "python3"
  },
  "language_info": {
   "codemirror_mode": {
    "name": "ipython",
    "version": 3
   },
   "file_extension": ".py",
   "mimetype": "text/x-python",
   "name": "python",
   "nbconvert_exporter": "python",
   "pygments_lexer": "ipython3",
   "version": "3.7.6"
  }
 },
 "nbformat": 4,
 "nbformat_minor": 4
}
